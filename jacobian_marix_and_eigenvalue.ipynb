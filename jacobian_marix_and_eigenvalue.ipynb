{
 "cells": [
  {
   "cell_type": "code",
   "execution_count": 1,
   "id": "5442e970",
   "metadata": {},
   "outputs": [],
   "source": [
    "from sympy import symbols, diff"
   ]
  },
  {
   "cell_type": "code",
   "execution_count": 45,
   "id": "6b2d4f04",
   "metadata": {},
   "outputs": [],
   "source": [
    "#Paramaters\n",
    "T0 = 1e+7\n",
    "pv=210\n",
    "gr=0.8\n",
    "B=5*10**-7\n",
    "B2=3*10**-8\n",
    "rho=2.6\n",
    "phi=0.33\n",
    "dv=5\n",
    "di=2\n",
    "kn=2.5\n",
    "phi=0.33\n",
    "rho=2.6\n",
    "pf=10**-5\n",
    "df=2"
   ]
  },
  {
   "cell_type": "code",
   "execution_count": 57,
   "id": "1811c26c",
   "metadata": {},
   "outputs": [],
   "source": [
    "a,b,c,d,e = symbols('a b c d e', real = True)\n",
    "#The value of a is V\n",
    "#The value of b is T\n",
    "#The value of c is I\n",
    "#The value of d is R\n",
    "#The value of e is F"
   ]
  },
  {
   "cell_type": "code",
   "execution_count": 47,
   "id": "72bfbc2e",
   "metadata": {},
   "outputs": [],
   "source": [
    "## define the ode system\n",
    "## order is the same with the original code in matlab\n",
    "def f1(V,T,I,R,F):\n",
    "    return pv*I-dv*V-B*V*T"
   ]
  },
  {
   "cell_type": "code",
   "execution_count": 48,
   "id": "0d2dcb0a",
   "metadata": {},
   "outputs": [
    {
     "name": "stdout",
     "output_type": "stream",
     "text": [
      "T:\n",
      "-5.0e-7*b - 5\n",
      "V:\n",
      "-5.0e-7*b - 5\n",
      "R:\n",
      "-5.0e-7*b - 5\n",
      "I:\n",
      "-5.0e-7*b - 5\n",
      "v:\n",
      "-5.0e-7*b - 5\n",
      "with value\n",
      "V:\n",
      "-26.0900000000000\n",
      "T:\n",
      "-2.64178500000000\n",
      "I:\n",
      "210\n",
      "R:\n",
      "0\n",
      "F:\n",
      "0\n"
     ]
    }
   ],
   "source": [
    "print(\"T:\")\n",
    "print(diff(f1(a,b,c,d,e), a))\n",
    "print(\"V:\")\n",
    "print(diff(f1(a,b,c,d,e), a))\n",
    "print(\"R:\")\n",
    "print(diff(f1(a,b,c,d,e), a))\n",
    "print(\"I:\")\n",
    "print(diff(f1(a,b,c,d,e), a))\n",
    "print(\"v:\")\n",
    "print(diff(f1(a,b,c,d,e), a))\n",
    "\n",
    "print(\"with value\")\n",
    "\n",
    "\n",
    "print(\"V:\")\n",
    "print(diff(f1(a,b,c,d,e), a).subs({a:5e+06, b: 4.218e+07, c:6.5639e+05, d:1.7534e+07, e: 3.2762}))\n",
    "print(\"T:\")\n",
    "print(diff(f1(a,b,c,d,e), b).subs({a:5283570, b: 4.218e+07, c:6.5639e+05, d:1.7534e+07, e: 3.2762}))\n",
    "print(\"I:\")\n",
    "print(diff(f1(a,b,c,d,e), c).subs({a:5283570, b: 4.218e+07, c:6.5639e+05, d:1.7534e+07, e: 3.2762}))\n",
    "print(\"R:\")\n",
    "print(diff(f1(a,b,c,d,e), d).subs({a:5283570, b: 4.218e+07, c:6.5639e+05, d:1.7534e+07, e: 3.2762}))\n",
    "print(\"F:\")\n",
    "print(diff(f1(a,b,c,d,e), e).subs({a:5283570, b: 4.218e+07, c:6.5639e+05, d:1.7534e+07, e: 3.2762}))"
   ]
  },
  {
   "cell_type": "code",
   "execution_count": 49,
   "id": "1edfde8b",
   "metadata": {},
   "outputs": [],
   "source": [
    "def f2(V,T,I,R,F):\n",
    "    return gr*(T+R)*(1-(T+R+I)/T0)-B2*V*T+rho*R-phi*F*T"
   ]
  },
  {
   "cell_type": "code",
   "execution_count": 50,
   "id": "d43f7ad2",
   "metadata": {},
   "outputs": [
    {
     "name": "stdout",
     "output_type": "stream",
     "text": [
      "v:\n",
      "-3.0e-8*b\n",
      "T:\n",
      "-3.0e-8*a - 1.6e-7*b - 8.0e-8*c - 1.6e-7*d - 0.33*e + 0.8\n",
      "I:\n",
      "-8.0e-8*b - 8.0e-8*d\n",
      "R:\n",
      "-1.6e-7*b - 8.0e-8*c - 1.6e-7*d + 3.4\n",
      "F:\n",
      "-0.33*b\n",
      "with value\n",
      "V:\n",
      "-1.26540000000000\n",
      "T:\n",
      "-10.0464043000000\n",
      "I:\n",
      "-4.77712000000000\n",
      "R:\n",
      "-6.20675120000000\n",
      "F:\n",
      "-13919400.0000000\n"
     ]
    }
   ],
   "source": [
    "\n",
    "a,b,c,d,e = symbols('a b c d e')\n",
    "\n",
    "print(\"v:\")\n",
    "print(diff(f2(a,b,c,d,e), a))\n",
    "print(\"T:\")\n",
    "print(diff(f2(a,b,c,d,e), b)) \n",
    "print(\"I:\")\n",
    "print(diff(f2(a,b,c,d,e), c)) \n",
    "print(\"R:\")\n",
    "print(diff(f2(a,b,c,d,e), d))\n",
    "print(\"F:\")\n",
    "print(diff(f2(a,b,c,d,e), e))  \n",
    "\n",
    "print(\"with value\")\n",
    "\n",
    "\n",
    "print(\"V:\")\n",
    "print(diff(f2(a,b,c,d,e), a).subs({a:5283570, b: 4.218e+07, c:6.5639e+05, d:1.7534e+07, e: 3.2762}))\n",
    "print(\"T:\")\n",
    "print(diff(f2(a,b,c,d,e), b).subs({a:5283570, b: 4.218e+07, c:6.5639e+05, d:1.7534e+07, e: 3.2762}))\n",
    "print(\"I:\")\n",
    "print(diff(f2(a,b,c,d,e), c).subs({a:5283570, b: 4.218e+07, c:6.5639e+05, d:1.7534e+07, e: 3.2762}))\n",
    "print(\"R:\")\n",
    "print(diff(f2(a,b,c,d,e), d).subs({a:5283570, b: 4.218e+07, c:6.5639e+05, d:1.7534e+07, e: 3.2762}))\n",
    "print(\"F:\")\n",
    "print(diff(f2(a,b,c,d,e), e).subs({a:5283570, b: 4.218e+07, c:6.5639e+05, d:1.7534e+07, e: 3.2762}))"
   ]
  },
  {
   "cell_type": "code",
   "execution_count": 51,
   "id": "70b8cfb7",
   "metadata": {},
   "outputs": [],
   "source": [
    "def f3(V,T,I,R,F):\n",
    "    return B2*V*T-di*I-kn*I*F"
   ]
  },
  {
   "cell_type": "code",
   "execution_count": 52,
   "id": "90da0b0e",
   "metadata": {},
   "outputs": [
    {
     "name": "stdout",
     "output_type": "stream",
     "text": [
      "v:\n",
      "3.0e-8*b\n",
      "T:\n",
      "3.0e-8*a\n",
      "I:\n",
      "-2.5*e - 2\n",
      "R:\n",
      "0\n",
      "F:\n",
      "-2.5*c\n",
      "with value\n",
      "V:\n",
      "1.26540000000000\n",
      "T:\n",
      "0.158507100000000\n",
      "I:\n",
      "-10.1905000000000\n",
      "R:\n",
      "0\n",
      "F:\n",
      "-1640975.00000000\n"
     ]
    }
   ],
   "source": [
    "print(\"v:\")\n",
    "print(diff(f3(a,b,c,d,e), a))\n",
    "print(\"T:\")\n",
    "print(diff(f3(a,b,c,d,e), b)) \n",
    "print(\"I:\")\n",
    "print(diff(f3(a,b,c,d,e), c)) \n",
    "print(\"R:\")\n",
    "print(diff(f3(a,b,c,d,e), d))\n",
    "print(\"F:\")\n",
    "print(diff(f3(a,b,c,d,e), e))  \n",
    "\n",
    "print(\"with value\")\n",
    "\n",
    "\n",
    "print(\"V:\")\n",
    "print(diff(f3(a,b,c,d,e), a).subs({a:5283570, b: 4.218e+07, c:6.5639e+05, d:1.7534e+07, e: 3.2762}))\n",
    "print(\"T:\")\n",
    "print(diff(f3(a,b,c,d,e), b).subs({a:5283570, b: 4.218e+07, c:6.5639e+05, d:1.7534e+07, e: 3.2762}))\n",
    "print(\"I:\")\n",
    "print(diff(f3(a,b,c,d,e), c).subs({a:5283570, b: 4.218e+07, c:6.5639e+05, d:1.7534e+07, e: 3.2762}))\n",
    "print(\"R:\")\n",
    "print(diff(f3(a,b,c,d,e), d).subs({a:5283570, b: 4.218e+07, c:6.5639e+05, d:1.7534e+07, e: 3.2762}))\n",
    "print(\"F:\")\n",
    "print(diff(f3(a,b,c,d,e), e).subs({a:5283570, b: 4.218e+07, c:6.5639e+05, d:1.7534e+07, e: 3.2762}))"
   ]
  },
  {
   "cell_type": "code",
   "execution_count": 53,
   "id": "5722eb2a",
   "metadata": {},
   "outputs": [],
   "source": [
    "def f4(V,T,I,R,F): ## THIS IS R\n",
    "    return phi*F*T-rho*R"
   ]
  },
  {
   "cell_type": "code",
   "execution_count": 54,
   "id": "05e0d0d2",
   "metadata": {},
   "outputs": [
    {
     "name": "stdout",
     "output_type": "stream",
     "text": [
      "v:\n",
      "0\n",
      "T:\n",
      "0.33*e\n",
      "I:\n",
      "0\n",
      "R:\n",
      "-2.60000000000000\n",
      "F:\n",
      "0.33*b\n",
      "with value\n",
      "V:\n",
      "0\n",
      "T:\n",
      "1.08114600000000\n",
      "I:\n",
      "0\n",
      "R:\n",
      "-2.60000000000000\n",
      "F:\n",
      "13919400.0000000\n"
     ]
    }
   ],
   "source": [
    "print(\"v:\")\n",
    "print(diff(f4(a,b,c,d,e), a))\n",
    "print(\"T:\")\n",
    "print(diff(f4(a,b,c,d,e), b)) \n",
    "print(\"I:\")\n",
    "print(diff(f4(a,b,c,d,e), c)) \n",
    "print(\"R:\")\n",
    "print(diff(f4(a,b,c,d,e), d))\n",
    "print(\"F:\")\n",
    "print(diff(f4(a,b,c,d,e), e))  \n",
    "\n",
    "print(\"with value\")\n",
    "\n",
    "\n",
    "print(\"V:\")\n",
    "print(diff(f4(a,b,c,d,e), a).subs({a:5283570, b: 4.218e+07, c:6.5639e+05, d:1.7534e+07, e: 3.2762}))\n",
    "print(\"T:\")\n",
    "print(diff(f4(a,b,c,d,e), b).subs({a:5283570, b: 4.218e+07, c:6.5639e+05, d:1.7534e+07, e: 3.2762}))\n",
    "print(\"I:\")\n",
    "print(diff(f4(a,b,c,d,e), c).subs({a:5283570, b: 4.218e+07, c:6.5639e+05, d:1.7534e+07, e: 3.2762}))\n",
    "print(\"R:\")\n",
    "print(diff(f4(a,b,c,d,e), d).subs({a:5283570, b: 4.218e+07, c:6.5639e+05, d:1.7534e+07, e: 3.2762}))\n",
    "print(\"F:\")\n",
    "print(diff(f4(a,b,c,d,e), e).subs({a:5283570, b: 4.218e+07, c:6.5639e+05, d:1.7534e+07, e: 3.2762}))"
   ]
  },
  {
   "cell_type": "code",
   "execution_count": 55,
   "id": "14d4067a",
   "metadata": {},
   "outputs": [],
   "source": [
    "def f5(V,T,I,R,F): ## THIS IS F\n",
    "    return pf*I-df*F "
   ]
  },
  {
   "cell_type": "code",
   "execution_count": 56,
   "id": "19197d61",
   "metadata": {},
   "outputs": [
    {
     "name": "stdout",
     "output_type": "stream",
     "text": [
      "v:\n",
      "0\n",
      "T:\n",
      "0\n",
      "I:\n",
      "1.00000000000000e-5\n",
      "R:\n",
      "0\n",
      "F:\n",
      "-2\n",
      "with value\n",
      "V:\n",
      "0\n",
      "T:\n",
      "0\n",
      "I:\n",
      "1.00000000000000e-5\n",
      "R:\n",
      "0\n",
      "F:\n",
      "-2\n"
     ]
    }
   ],
   "source": [
    "print(\"v:\")\n",
    "print(diff(f5(a,b,c,d,e), a))\n",
    "print(\"T:\")\n",
    "print(diff(f5(a,b,c,d,e), b)) \n",
    "print(\"I:\")\n",
    "print(diff(f5(a,b,c,d,e), c)) \n",
    "print(\"R:\")\n",
    "print(diff(f5(a,b,c,d,e), d))\n",
    "print(\"F:\")\n",
    "print(diff(f5(a,b,c,d,e), e))  \n",
    "\n",
    "print(\"with value\")\n",
    "\n",
    "\n",
    "print(\"V:\")\n",
    "print(diff(f5(a,b,c,d,e), a).subs({a:5283570, b: 4.218e+07, c:6.5639e+05, d:1.7534e+07, e: 3.2762}))\n",
    "print(\"T:\")\n",
    "print(diff(f5(a,b,c,d,e), b).subs({a:5283570, b: 4.218e+07, c:6.5639e+05, d:1.7534e+07, e: 3.2762}))\n",
    "print(\"I:\")\n",
    "print(diff(f5(a,b,c,d,e), c).subs({a:5283570, b: 4.218e+07, c:6.5639e+05, d:1.7534e+07, e: 3.2762}))\n",
    "print(\"R:\")\n",
    "print(diff(f5(a,b,c,d,e), d).subs({a:5283570, b: 4.218e+07, c:6.5639e+05, d:1.7534e+07, e: 3.2762}))\n",
    "print(\"F:\")\n",
    "print(diff(f5(a,b,c,d,e), e).subs({a:5283570, b: 4.218e+07, c:6.5639e+05, d:1.7534e+07, e: 3.2762}))"
   ]
  },
  {
   "cell_type": "markdown",
   "id": "61a7ba55",
   "metadata": {},
   "source": [
    "gr=0.8\n",
    "pv=210\n",
    "pf=10**-5\n",
    "pc=1.2\n",
    "pb=0.52\n",
    "ps=12\n",
    "pl=4\n",
    "dv=5\n",
    "di=2\n",
    "df=2\n",
    "de=0.57\n",
    "dp=0.5\n",
    "ds=2\n",
    "dl=0.015\n",
    "B=5*10**-7\n",
    "B2=3*10**-8\n",
    "phi=0.33\n",
    "rho=2.6\n",
    "ks=0.8\n",
    "kl=0.4\n",
    "kn=2.5\n",
    "ke=5*10**-5\n",
    "Bcn=1\n",
    "Bbn=0.03\n",
    "hc=10**4\n",
    "hb=10**4\n",
    "tc=6\n",
    "tb=4\n",
    "indC = round (tc/dt+1)\n",
    "indB = round (tb/dt+1)\n",
    "\n"
   ]
  },
  {
   "cell_type": "code",
   "execution_count": 58,
   "id": "e5bcf8eb",
   "metadata": {},
   "outputs": [],
   "source": [
    "import numpy as np"
   ]
  },
  {
   "cell_type": "code",
   "execution_count": 59,
   "id": "11c6c05a",
   "metadata": {},
   "outputs": [],
   "source": [
    "Ja1= np.array([[-26.09,-2.64,210,0,0],\n",
    "               [-1.2654,-10.0464043,-4.777120,-6.2067512,-13919400.0],\n",
    "               [1.2654,0.1585071,-10.19050,0,-1640975.0],\n",
    "               [0,1.0811460,0,-2.60,13919400.0],\n",
    "               [0,0,1.00000000000000e-5,0,-2]])"
   ]
  },
  {
   "cell_type": "code",
   "execution_count": 61,
   "id": "c3d6e27a",
   "metadata": {},
   "outputs": [
    {
     "data": {
      "text/plain": [
       "array([[-2.60900000e+01, -2.64000000e+00,  2.10000000e+02,\n",
       "         0.00000000e+00,  0.00000000e+00],\n",
       "       [-1.26540000e+00, -1.00464043e+01, -4.77712000e+00,\n",
       "        -6.20675120e+00, -1.39194000e+07],\n",
       "       [ 1.26540000e+00,  1.58507100e-01, -1.01905000e+01,\n",
       "         0.00000000e+00, -1.64097500e+06],\n",
       "       [ 0.00000000e+00,  1.08114600e+00,  0.00000000e+00,\n",
       "        -2.60000000e+00,  1.39194000e+07],\n",
       "       [ 0.00000000e+00,  0.00000000e+00,  1.00000000e-05,\n",
       "         0.00000000e+00, -2.00000000e+00]])"
      ]
     },
     "execution_count": 61,
     "metadata": {},
     "output_type": "execute_result"
    }
   ],
   "source": [
    "Ja1"
   ]
  },
  {
   "cell_type": "code",
   "execution_count": 60,
   "id": "d4854598",
   "metadata": {},
   "outputs": [
    {
     "data": {
      "text/plain": [
       "array([-36.27129468+0.j        ,  -1.05440927+3.38045011j,\n",
       "        -1.05440927-3.38045011j,  -3.73048917+0.j        ,\n",
       "        -8.81630191+0.j        ])"
      ]
     },
     "execution_count": 60,
     "metadata": {},
     "output_type": "execute_result"
    }
   ],
   "source": [
    "## CALCULATE EIGEVALUE\n",
    "np.linalg.eig(Ja1)[0]"
   ]
  }
 ],
 "metadata": {
  "kernelspec": {
   "display_name": "Python 3",
   "language": "python",
   "name": "python3"
  },
  "language_info": {
   "codemirror_mode": {
    "name": "ipython",
    "version": 3
   },
   "file_extension": ".py",
   "mimetype": "text/x-python",
   "name": "python",
   "nbconvert_exporter": "python",
   "pygments_lexer": "ipython3",
   "version": "3.8.5"
  }
 },
 "nbformat": 4,
 "nbformat_minor": 5
}
